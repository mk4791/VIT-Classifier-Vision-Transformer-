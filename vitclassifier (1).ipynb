{
  "nbformat": 4,
  "nbformat_minor": 0,
  "metadata": {
    "colab": {
      "provenance": [],
      "gpuType": "T4"
    },
    "kernelspec": {
      "name": "python3",
      "display_name": "Python 3"
    },
    "language_info": {
      "name": "python"
    },
    "accelerator": "GPU"
  },
  "cells": [
    {
      "cell_type": "code",
      "source": [
        "pip install tensorflow-addons"
      ],
      "metadata": {
        "colab": {
          "base_uri": "https://localhost:8080/"
        },
        "id": "mGoQ64FCrYlo",
        "outputId": "d48743d5-54b7-4c30-f7cc-cef05a1bf1c3"
      },
      "execution_count": null,
      "outputs": [
        {
          "output_type": "stream",
          "name": "stdout",
          "text": [
            "Collecting tensorflow-addons\n",
            "  Downloading tensorflow_addons-0.23.0-cp310-cp310-manylinux_2_17_x86_64.manylinux2014_x86_64.whl (611 kB)\n",
            "\u001b[?25l     \u001b[90m━━━━━━━━━━━━━━━━━━━━━━━━━━━━━━━━━━━━━━━━\u001b[0m \u001b[32m0.0/611.8 kB\u001b[0m \u001b[31m?\u001b[0m eta \u001b[36m-:--:--\u001b[0m\r\u001b[2K     \u001b[91m━━━━━━━━━━━━━━━━━━━━\u001b[0m\u001b[91m╸\u001b[0m\u001b[90m━━━━━━━━━━━━━━━━━━━\u001b[0m \u001b[32m317.4/611.8 kB\u001b[0m \u001b[31m9.3 MB/s\u001b[0m eta \u001b[36m0:00:01\u001b[0m\r\u001b[2K     \u001b[90m━━━━━━━━━━━━━━━━━━━━━━━━━━━━━━━━━━━━━━━━\u001b[0m \u001b[32m611.8/611.8 kB\u001b[0m \u001b[31m12.7 MB/s\u001b[0m eta \u001b[36m0:00:00\u001b[0m\n",
            "\u001b[?25hRequirement already satisfied: packaging in /usr/local/lib/python3.10/dist-packages (from tensorflow-addons) (24.0)\n",
            "Collecting typeguard<3.0.0,>=2.7 (from tensorflow-addons)\n",
            "  Downloading typeguard-2.13.3-py3-none-any.whl (17 kB)\n",
            "Installing collected packages: typeguard, tensorflow-addons\n",
            "Successfully installed tensorflow-addons-0.23.0 typeguard-2.13.3\n"
          ]
        }
      ]
    },
    {
      "cell_type": "code",
      "source": [
        "import numpy as np\n",
        "import tensorflow as tf\n",
        "from tensorflow import keras\n",
        "from tensorflow.keras import layers\n",
        "import tensorflow_addons as tfa"
      ],
      "metadata": {
        "colab": {
          "base_uri": "https://localhost:8080/"
        },
        "id": "D4dek1EqqvE7",
        "outputId": "e2cc8b59-6161-4c7b-8091-101cd15f85c1"
      },
      "execution_count": null,
      "outputs": [
        {
          "output_type": "stream",
          "name": "stderr",
          "text": [
            "/usr/local/lib/python3.10/dist-packages/tensorflow_addons/utils/tfa_eol_msg.py:23: UserWarning: \n",
            "\n",
            "TensorFlow Addons (TFA) has ended development and introduction of new features.\n",
            "TFA has entered a minimal maintenance and release mode until a planned end of life in May 2024.\n",
            "Please modify downstream libraries to take dependencies from other repositories in our TensorFlow community (e.g. Keras, Keras-CV, and Keras-NLP). \n",
            "\n",
            "For more information see: https://github.com/tensorflow/addons/issues/2807 \n",
            "\n",
            "  warnings.warn(\n"
          ]
        }
      ]
    },
    {
      "cell_type": "code",
      "source": [
        "num_classes = 10\n",
        "input_shape = (32,32,3)\n",
        "(x_train , y_train), (x_test , y_test) = keras.datasets.cifar10.load_data()\n",
        "print(f\"x_train_shape {x_train.shape} - y_train_shape: {y_train.shape}\" )\n",
        "print(f\"x_test_shape: {x_test.shape} - y_test_shape: {y_test.shape}\")\n"
      ],
      "metadata": {
        "colab": {
          "base_uri": "https://localhost:8080/"
        },
        "id": "zPWUjihmq2Y5",
        "outputId": "15ab08c0-7a3f-4032-e57a-ae3661f4acd7"
      },
      "execution_count": null,
      "outputs": [
        {
          "output_type": "stream",
          "name": "stdout",
          "text": [
            "Downloading data from https://www.cs.toronto.edu/~kriz/cifar-10-python.tar.gz\n",
            "170498071/170498071 [==============================] - 13s 0us/step\n",
            "x_train_shape (50000, 32, 32, 3) - y_train_shape: (50000, 1)\n",
            "x_test_shape: (10000, 32, 32, 3) - y_test_shape: (10000, 1)\n"
          ]
        }
      ]
    },
    {
      "cell_type": "code",
      "source": [
        "learning_rate = 0.001\n",
        "weight_decay = 0.0001\n",
        "batch_size = 256\n",
        "num_epochs = 40\n",
        "image_size = 72 #we'll resize images to this size\n",
        "patch_size = 6 #size of the patches to be extracted from the input images\n",
        "num_patches = (image_size//patch_size)**2\n",
        "projection_dim = 64\n",
        "num_heads = 4\n",
        "transformer_units = [\n",
        "    projection_dim*2,\n",
        "    projection_dim\n",
        "] #size of the transformer layers\n",
        "transformer_layers = 8\n",
        "mlp_head_units = [2048,1024] #size oof the dense layers of the final classifier"
      ],
      "metadata": {
        "id": "2lI9c-1KrgT7"
      },
      "execution_count": null,
      "outputs": []
    },
    {
      "cell_type": "code",
      "source": [
        "data_augmentation = keras.Sequential(\n",
        " [\n",
        "    layers.Normalization(),\n",
        "    layers.Resizing(image_size, image_size),\n",
        "    layers.RandomFlip(\"horizontal\"),\n",
        "    layers.RandomRotation(factor=0.02),\n",
        "    layers.RandomZoom(\n",
        "        height_factor = 0.2, width_factor = 0.2)\n",
        " ],\n",
        " name = \"data_augmentation\"\n",
        ")\n",
        "data_augmentation.layers[0].adapt(x_train)"
      ],
      "metadata": {
        "id": "zRk_JGKJrlaR"
      },
      "execution_count": null,
      "outputs": []
    },
    {
      "cell_type": "code",
      "source": [
        "def mlp(x, hidden_units, dropout_rate):\n",
        "    for units in hidden_units:\n",
        "        x = layers.Dense(units, activation = tf.nn.gelu)(x)\n",
        "        x = layers.Dropout(dropout_rate)(x)\n",
        "    return x"
      ],
      "metadata": {
        "id": "Z8fiwGCGroal"
      },
      "execution_count": null,
      "outputs": []
    },
    {
      "cell_type": "code",
      "source": [
        "class Patches(layers.Layer):\n",
        "    def __init__(self, patch_size):\n",
        "        super(Patches, self).__init__()\n",
        "        self.patch_size = patch_size\n",
        "\n",
        "    def call(self, images):\n",
        "        batch_size = tf.shape(images)[0]\n",
        "        patches = tf.image.extract_patches(\n",
        "            images = images,\n",
        "            sizes=[1, self.patch_size, self.patch_size, 1],\n",
        "            strides=[1, self.patch_size, self.patch_size, 1],\n",
        "            rates=[1, 1, 1, 1],\n",
        "            padding=\"VALID\",\n",
        "        )\n",
        "        patch_dims = patches.shape[-1]\n",
        "        patches = tf.reshape(patches, [batch_size, -1, patch_dims])\n",
        "        return patches"
      ],
      "metadata": {
        "id": "Vvf0s0-drrP4"
      },
      "execution_count": null,
      "outputs": []
    },
    {
      "cell_type": "code",
      "source": [
        "import matplotlib.pyplot as plt\n",
        "\n",
        "plt.figure(figsize=(4, 4))\n",
        "image = x_train[np.random.choice(range(x_train.shape[0]))]\n",
        "print(image.shape)\n",
        "plt.imshow(np.squeeze(image).astype(\"uint8\"))\n",
        "plt.axis(\"off\")\n",
        "\n",
        "resized_image = tf.image.resize(\n",
        "    tf.convert_to_tensor([image]), size=(image_size, image_size)\n",
        ")\n",
        "print(resized_image.shape)\n",
        "patches = Patches(patch_size)(resized_image)\n",
        "print(f\"Image size: {image_size} X {image_size}\")\n",
        "print(f\"Patch size: {patch_size} X {patch_size}\")\n",
        "print(f\"Patches per image: {patches.shape[1]}\")\n",
        "print(f\"Elements per patch: {patches.shape[-1]}\")\n",
        "\n",
        "n = int(np.sqrt(patches.shape[1]))\n",
        "plt.figure(figsize=(4, 4))\n",
        "for i, patch in enumerate(patches[0]):\n",
        "    ax = plt.subplot(n, n, i + 1)\n",
        "    patch_img = tf.reshape(patch, (patch_size,patch_size, 3))\n",
        "    plt.imshow(patch_img.numpy().astype(\"uint8\"))\n",
        "    plt.axis(\"off\")"
      ],
      "metadata": {
        "colab": {
          "base_uri": "https://localhost:8080/",
          "height": 777
        },
        "id": "TnoE1jUXrtWC",
        "outputId": "9dd52670-aeda-49d9-bec0-2339a4c82975"
      },
      "execution_count": null,
      "outputs": [
        {
          "output_type": "stream",
          "name": "stdout",
          "text": [
            "(32, 32, 3)\n",
            "(1, 72, 72, 3)\n",
            "Image size: 72 X 72\n",
            "Patch size: 6 X 6\n",
            "Patches per image: 144\n",
            "Elements per patch: 108\n"
          ]
        },
        {
          "output_type": "display_data",
          "data": {
            "text/plain": [
              "<Figure size 400x400 with 1 Axes>"
            ],
            "image/png": "[encoded data removed]"
          },
          "metadata": {}
        },
        {
          "output_type": "display_data",
          "data": {
            "text/plain": [
              "<Figure size 400x400 with 144 Axes>"
            ],
            "image/png": "[encoded data removed]"
          },
          "metadata": {}
        }
      ]
    },
    {
      "cell_type": "code",
      "source": [
        "class PatchEncoder(layers.Layer):\n",
        "\n",
        "    def __init__(self, num_patches, projection_dim):\n",
        "        super(PatchEncoder, self).__init__()\n",
        "        self.num_patches = num_patches\n",
        "        self.projection = layers.Dense(projection_dim)\n",
        "        self.position_embedding = layers.Embedding(\n",
        "            input_dim=num_patches, output_dim=projection_dim\n",
        "        )\n",
        "    def call(self, patch):\n",
        "        positions = tf.range(start=0, limit=self.num_patches, delta=1)\n",
        "        encoded = self.projection(patch) + self.position_embedding(positions)\n",
        "        return encoded"
      ],
      "metadata": {
        "id": "u-mImj_6rxQc"
      },
      "execution_count": null,
      "outputs": []
    },
    {
      "cell_type": "code",
      "source": [
        "def create_vit_classifier():\n",
        "    # Inputs\n",
        "    inputs = layers.Input(shape=input_shape)\n",
        "    # Data Augmentation\n",
        "    augmented = data_augmentation(inputs)\n",
        "    # Patches\n",
        "    patches = Patches(patch_size)(augmented)\n",
        "    encoder_patches = PatchEncoder(num_patches, projection_dim)(patches)\n",
        "\n",
        "    for _ in range(transformer_layers):\n",
        "        # Layer Normalization 1\n",
        "        x1 = layers.LayerNormalization(epsilon=1e-6)(encoder_patches)\n",
        "        # Multi-Head Attention Layer\n",
        "        attention_output = layers.MultiHeadAttention(\n",
        "            num_heads=num_heads,\n",
        "            key_dim=projection_dim,\n",
        "            dropout=0.1\n",
        "        )(x1, x1)\n",
        "        # Skip Connnection 1\n",
        "        x2 = layers.Add()([attention_output, encoder_patches])\n",
        "\n",
        "        # Layer Normalization 2\n",
        "        x3 = layers.LayerNormalization(epsilon=1e-6)(x2)\n",
        "\n",
        "        # MLP\n",
        "        x3 = mlp(x3, hidden_units=transformer_units, dropout_rate=0.1)\n",
        "\n",
        "        # Skip Connnection 2\n",
        "        encoder_patches = layers.Add()([x3, x2])\n",
        "\n",
        "    representation = layers.LayerNormalization(epsilon=1e-6)(encoder_patches)\n",
        "    representation = layers.Flatten()(representation)\n",
        "    representation = layers.Dropout(0.5)(representation)\n",
        "\n",
        "    features = mlp(representation, hidden_units=mlp_head_units, dropout_rate=0.5)\n",
        "\n",
        "    outputs = layers.Dense(num_classes)(features)\n",
        "\n",
        "    model = keras.Model(inputs=inputs, outputs=outputs)\n",
        "    return model"
      ],
      "metadata": {
        "id": "uDayDsq3r02k"
      },
      "execution_count": null,
      "outputs": []
    },
    {
      "cell_type": "code",
      "source": [
        "def run_experiment(model):\n",
        "    optimizer = tf.optimizers.AdamW(\n",
        "        learning_rate= learning_rate , weight_decay = weight_decay\n",
        "    )\n",
        "    model.compile(\n",
        "        optimizer=optimizer,loss= keras.losses.SparseCategoricalCrossentropy(from_logits=True),\n",
        "        metrics=[\n",
        "            keras.metrics.SparseCategoricalAccuracy(name= \"accuracy\"),\n",
        "            keras.metrics.SparseTopKCategoricalAccuracy(5,name=\"top_5_accuracy\"),\n",
        "        ],\n",
        "    )\n",
        "    checkpoint_filepath = \"./tmp/checkpoint\"\n",
        "    checkpoint_callback = keras.callbacks.ModelCheckpoint(\n",
        "    checkpoint_filepath,\n",
        "    monitor=\"val_accuracy\",\n",
        "    save_best_only=True,\n",
        "    save_weights_only=True,\n",
        "    )\n",
        "    history = model.fit(x= x_train, y= y_train,batch_size= batch_size,epochs= num_epochs,\n",
        "                             validation_split=0.1, callbacks=[checkpoint_callback],)\n",
        "    model.load_weights(checkpoint_filepath)\n",
        "    _,accuracy, top_5_accuracy = model.evaluate(x_test,y_test)\n",
        "    print(f\"Test accuracy: {round(accuracy*100,2)}%\")\n",
        "    print(f\"Test Top 5 accuracy: {round(top_5_accuracy*100,2)}%\")"
      ],
      "metadata": {
        "id": "9lh2z1ger5Dn"
      },
      "execution_count": null,
      "outputs": []
    },
    {
      "cell_type": "code",
      "source": [
        "vit_classifier = create_vit_classifier()\n",
        "history = run_experiment(vit_classifier)"
      ],
      "metadata": {
        "colab": {
          "base_uri": "https://localhost:8080/"
        },
        "id": "p-GgAZgwr8Tk",
        "outputId": "a9504234-4a44-41b2-8553-8684ab34dd7a"
      },
      "execution_count": null,
      "outputs": [
        {
          "output_type": "stream",
          "name": "stdout",
          "text": [
            "Epoch 1/40\n",
            "176/176 [==============================] - 97s 385ms/step - loss: 2.0902 - accuracy: 0.3052 - top_5_accuracy: 0.8017 - val_loss: 1.5796 - val_accuracy: 0.4290 - val_top_5_accuracy: 0.9056\n",
            "Epoch 2/40\n",
            "176/176 [==============================] - 70s 399ms/step - loss: 1.5713 - accuracy: 0.4308 - top_5_accuracy: 0.8984 - val_loss: 1.3059 - val_accuracy: 0.5368 - val_top_5_accuracy: 0.9436\n",
            "Epoch 3/40\n",
            "176/176 [==============================] - 72s 411ms/step - loss: 1.4029 - accuracy: 0.4972 - top_5_accuracy: 0.9231 - val_loss: 1.1601 - val_accuracy: 0.5752 - val_top_5_accuracy: 0.9572\n",
            "Epoch 4/40\n",
            "176/176 [==============================] - 68s 386ms/step - loss: 1.3009 - accuracy: 0.5387 - top_5_accuracy: 0.9376 - val_loss: 1.1117 - val_accuracy: 0.6068 - val_top_5_accuracy: 0.9650\n",
            "Epoch 5/40\n",
            "176/176 [==============================] - 70s 397ms/step - loss: 1.2357 - accuracy: 0.5592 - top_5_accuracy: 0.9432 - val_loss: 1.0524 - val_accuracy: 0.6242 - val_top_5_accuracy: 0.9654\n",
            "Epoch 6/40\n",
            "176/176 [==============================] - 72s 411ms/step - loss: 1.1828 - accuracy: 0.5818 - top_5_accuracy: 0.9489 - val_loss: 1.0152 - val_accuracy: 0.6346 - val_top_5_accuracy: 0.9694\n",
            "Epoch 7/40\n",
            "176/176 [==============================] - 72s 409ms/step - loss: 1.1323 - accuracy: 0.6012 - top_5_accuracy: 0.9539 - val_loss: 0.9454 - val_accuracy: 0.6616 - val_top_5_accuracy: 0.9740\n",
            "Epoch 8/40\n",
            "176/176 [==============================] - 67s 382ms/step - loss: 1.0942 - accuracy: 0.6144 - top_5_accuracy: 0.9584 - val_loss: 0.9160 - val_accuracy: 0.6802 - val_top_5_accuracy: 0.9776\n",
            "Epoch 9/40\n",
            "176/176 [==============================] - 66s 375ms/step - loss: 1.0604 - accuracy: 0.6284 - top_5_accuracy: 0.9606 - val_loss: 0.9078 - val_accuracy: 0.6748 - val_top_5_accuracy: 0.9762\n",
            "Epoch 10/40\n",
            "176/176 [==============================] - 70s 401ms/step - loss: 1.0272 - accuracy: 0.6414 - top_5_accuracy: 0.9635 - val_loss: 0.8605 - val_accuracy: 0.7058 - val_top_5_accuracy: 0.9778\n",
            "Epoch 11/40\n",
            "176/176 [==============================] - 72s 408ms/step - loss: 0.9926 - accuracy: 0.6543 - top_5_accuracy: 0.9659 - val_loss: 0.8203 - val_accuracy: 0.7196 - val_top_5_accuracy: 0.9822\n",
            "Epoch 12/40\n",
            "176/176 [==============================] - 72s 412ms/step - loss: 0.9613 - accuracy: 0.6652 - top_5_accuracy: 0.9673 - val_loss: 0.8078 - val_accuracy: 0.7220 - val_top_5_accuracy: 0.9830\n",
            "Epoch 13/40\n",
            "176/176 [==============================] - 72s 411ms/step - loss: 0.9272 - accuracy: 0.6784 - top_5_accuracy: 0.9702 - val_loss: 0.7858 - val_accuracy: 0.7298 - val_top_5_accuracy: 0.9842\n",
            "Epoch 14/40\n",
            "176/176 [==============================] - 66s 375ms/step - loss: 0.8977 - accuracy: 0.6867 - top_5_accuracy: 0.9730 - val_loss: 0.7826 - val_accuracy: 0.7242 - val_top_5_accuracy: 0.9816\n",
            "Epoch 15/40\n",
            "176/176 [==============================] - 72s 411ms/step - loss: 0.8809 - accuracy: 0.6932 - top_5_accuracy: 0.9734 - val_loss: 0.7718 - val_accuracy: 0.7318 - val_top_5_accuracy: 0.9856\n",
            "Epoch 16/40\n",
            "176/176 [==============================] - 72s 411ms/step - loss: 0.8607 - accuracy: 0.7049 - top_5_accuracy: 0.9738 - val_loss: 0.7430 - val_accuracy: 0.7456 - val_top_5_accuracy: 0.9860\n",
            "Epoch 17/40\n",
            "176/176 [==============================] - 70s 399ms/step - loss: 0.8331 - accuracy: 0.7100 - top_5_accuracy: 0.9766 - val_loss: 0.7108 - val_accuracy: 0.7524 - val_top_5_accuracy: 0.9858\n",
            "Epoch 18/40\n",
            "176/176 [==============================] - 67s 382ms/step - loss: 0.8094 - accuracy: 0.7185 - top_5_accuracy: 0.9779 - val_loss: 0.7132 - val_accuracy: 0.7584 - val_top_5_accuracy: 0.9868\n",
            "Epoch 19/40\n",
            "176/176 [==============================] - 67s 382ms/step - loss: 0.7888 - accuracy: 0.7252 - top_5_accuracy: 0.9783 - val_loss: 0.6652 - val_accuracy: 0.7716 - val_top_5_accuracy: 0.9882\n",
            "Epoch 20/40\n",
            "176/176 [==============================] - 70s 396ms/step - loss: 0.7745 - accuracy: 0.7300 - top_5_accuracy: 0.9803 - val_loss: 0.6649 - val_accuracy: 0.7758 - val_top_5_accuracy: 0.9854\n",
            "Epoch 21/40\n",
            "176/176 [==============================] - 66s 374ms/step - loss: 0.7535 - accuracy: 0.7379 - top_5_accuracy: 0.9815 - val_loss: 0.6538 - val_accuracy: 0.7742 - val_top_5_accuracy: 0.9878\n",
            "Epoch 22/40\n",
            "176/176 [==============================] - 72s 410ms/step - loss: 0.7331 - accuracy: 0.7466 - top_5_accuracy: 0.9828 - val_loss: 0.6419 - val_accuracy: 0.7776 - val_top_5_accuracy: 0.9884\n",
            "Epoch 23/40\n",
            "176/176 [==============================] - 66s 375ms/step - loss: 0.7222 - accuracy: 0.7483 - top_5_accuracy: 0.9831 - val_loss: 0.6435 - val_accuracy: 0.7752 - val_top_5_accuracy: 0.9892\n",
            "Epoch 24/40\n",
            "176/176 [==============================] - 67s 383ms/step - loss: 0.7109 - accuracy: 0.7530 - top_5_accuracy: 0.9828 - val_loss: 0.6137 - val_accuracy: 0.7874 - val_top_5_accuracy: 0.9908\n",
            "Epoch 25/40\n",
            "176/176 [==============================] - 66s 376ms/step - loss: 0.6998 - accuracy: 0.7556 - top_5_accuracy: 0.9836 - val_loss: 0.6257 - val_accuracy: 0.7860 - val_top_5_accuracy: 0.9890\n",
            "Epoch 26/40\n",
            "176/176 [==============================] - 67s 383ms/step - loss: 0.6830 - accuracy: 0.7606 - top_5_accuracy: 0.9847 - val_loss: 0.6115 - val_accuracy: 0.7888 - val_top_5_accuracy: 0.9904\n",
            "Epoch 27/40\n",
            "176/176 [==============================] - 68s 385ms/step - loss: 0.6704 - accuracy: 0.7670 - top_5_accuracy: 0.9842 - val_loss: 0.6191 - val_accuracy: 0.7918 - val_top_5_accuracy: 0.9896\n",
            "Epoch 28/40\n",
            "176/176 [==============================] - 66s 375ms/step - loss: 0.6537 - accuracy: 0.7711 - top_5_accuracy: 0.9866 - val_loss: 0.6128 - val_accuracy: 0.7872 - val_top_5_accuracy: 0.9904\n",
            "Epoch 29/40\n",
            "176/176 [==============================] - 67s 383ms/step - loss: 0.6409 - accuracy: 0.7774 - top_5_accuracy: 0.9873 - val_loss: 0.5994 - val_accuracy: 0.7920 - val_top_5_accuracy: 0.9900\n",
            "Epoch 30/40\n",
            "176/176 [==============================] - 69s 395ms/step - loss: 0.6153 - accuracy: 0.7855 - top_5_accuracy: 0.9880 - val_loss: 0.5863 - val_accuracy: 0.7952 - val_top_5_accuracy: 0.9892\n",
            "Epoch 31/40\n",
            "176/176 [==============================] - 72s 412ms/step - loss: 0.6116 - accuracy: 0.7846 - top_5_accuracy: 0.9880 - val_loss: 0.5900 - val_accuracy: 0.7962 - val_top_5_accuracy: 0.9882\n",
            "Epoch 32/40\n",
            "176/176 [==============================] - 73s 413ms/step - loss: 0.5972 - accuracy: 0.7919 - top_5_accuracy: 0.9892 - val_loss: 0.5839 - val_accuracy: 0.8010 - val_top_5_accuracy: 0.9906\n",
            "Epoch 33/40\n",
            "176/176 [==============================] - 68s 388ms/step - loss: 0.5864 - accuracy: 0.7945 - top_5_accuracy: 0.9891 - val_loss: 0.5710 - val_accuracy: 0.8080 - val_top_5_accuracy: 0.9882\n",
            "Epoch 34/40\n",
            "176/176 [==============================] - 71s 402ms/step - loss: 0.5696 - accuracy: 0.8008 - top_5_accuracy: 0.9898 - val_loss: 0.5535 - val_accuracy: 0.8128 - val_top_5_accuracy: 0.9918\n",
            "Epoch 35/40\n",
            "176/176 [==============================] - 66s 375ms/step - loss: 0.5642 - accuracy: 0.8052 - top_5_accuracy: 0.9902 - val_loss: 0.5680 - val_accuracy: 0.8026 - val_top_5_accuracy: 0.9910\n",
            "Epoch 36/40\n",
            "176/176 [==============================] - 67s 381ms/step - loss: 0.5486 - accuracy: 0.8050 - top_5_accuracy: 0.9911 - val_loss: 0.5527 - val_accuracy: 0.8130 - val_top_5_accuracy: 0.9906\n",
            "Epoch 37/40\n",
            "176/176 [==============================] - 72s 410ms/step - loss: 0.5343 - accuracy: 0.8144 - top_5_accuracy: 0.9908 - val_loss: 0.5466 - val_accuracy: 0.8134 - val_top_5_accuracy: 0.9914\n",
            "Epoch 38/40\n",
            "176/176 [==============================] - 66s 376ms/step - loss: 0.5319 - accuracy: 0.8143 - top_5_accuracy: 0.9914 - val_loss: 0.5608 - val_accuracy: 0.8092 - val_top_5_accuracy: 0.9908\n",
            "Epoch 39/40\n",
            "176/176 [==============================] - 67s 382ms/step - loss: 0.5140 - accuracy: 0.8202 - top_5_accuracy: 0.9921 - val_loss: 0.5384 - val_accuracy: 0.8162 - val_top_5_accuracy: 0.9918\n",
            "Epoch 40/40\n",
            "176/176 [==============================] - 66s 376ms/step - loss: 0.5133 - accuracy: 0.8196 - top_5_accuracy: 0.9918 - val_loss: 0.5644 - val_accuracy: 0.8060 - val_top_5_accuracy: 0.9898\n",
            "313/313 [==============================] - 7s 23ms/step - loss: 0.5729 - accuracy: 0.8007 - top_5_accuracy: 0.9901\n",
            "Test accuracy: 80.07%\n",
            "Test Top 5 accuracy: 99.01%\n"
          ]
        }
      ]
    },
    {
      "cell_type": "code",
      "source": [
        "class_names = [\n",
        "                'airplane'\n",
        "                'automobile'\n",
        "                'bird'\n",
        "                'cat'\n",
        "                'deer'\n",
        "                'dog'\n",
        "                'frog'\n",
        "                'horse'\n",
        "                'ship'\n",
        "                'truck'\n",
        "]"
      ],
      "metadata": {
        "id": "NfZEN2PAsCV4"
      },
      "execution_count": null,
      "outputs": []
    },
    {
      "cell_type": "code",
      "source": [
        "# def img_predict(images, model):\n",
        "#   if len(images.shape) == 3:\n",
        "#     out = model.predict(images.reshape(-1,*images.shape))\n",
        "#   else:\n",
        "#     out = model.predict(images)\n",
        "#   prediction = np.argmax(out, axis = 1)\n",
        "#   img_prediction =[class_names[i] for i in prediction]\n",
        "#   return img_prediction\n",
        "def img_predict(images, model):\n",
        "  if len(images.shape) == 3:\n",
        "    out = model.predict(images.reshape(-1,*images.shape))\n",
        "  else:\n",
        "    out = model.predict(images)\n",
        "  prediction = np.argmax(out, axis = 1)\n",
        "  img_prediction = []\n",
        "  for i in prediction:\n",
        "    if i <= len(class_names):\n",
        "      img_prediction.append(class_names[i])\n",
        "    else:\n",
        "      img_prediction.append(\"Unknown\")\n",
        "  return img_prediction"
      ],
      "metadata": {
        "id": "WOv-2-c09lBN"
      },
      "execution_count": null,
      "outputs": []
    },
    {
      "cell_type": "code",
      "source": [
        "index=16\n",
        "plt.imshow(x_test[index])\n",
        "prediction=img_predict(x_test[index],vit_classifier)\n",
        "print(prediction)"
      ],
      "metadata": {
        "colab": {
          "base_uri": "https://localhost:8080/",
          "height": 465
        },
        "id": "itJHfYLT-mBF",
        "outputId": "b4b543eb-f212-4b5d-dc15-a22da0880b1d"
      },
      "execution_count": null,
      "outputs": [
        {
          "output_type": "stream",
          "name": "stdout",
          "text": [
            "1/1 [==============================] - 0s 29ms/step\n",
            "['Unknown']\n"
          ]
        },
        {
          "output_type": "display_data",
          "data": {
            "text/plain": [
              "<Figure size 640x480 with 1 Axes>"
            ],
            "image/png": "[encoded data removed]"
          },
          "metadata": {}
        }
      ]
    },
    {
      "cell_type": "code",
      "source": [],
      "metadata": {
        "id": "iuWvXpAcBSM4"
      },
      "execution_count": null,
      "outputs": []
    }
  ]
}